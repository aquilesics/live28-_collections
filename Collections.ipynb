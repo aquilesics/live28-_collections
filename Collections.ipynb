{
    "cells": [
        {
            "cell_type": "markdown",
            "source": [
                "## Concepts of Collections\n",
                "Deque"
            ],
            "metadata": {}
        },
        {
            "cell_type": "code",
            "execution_count": 8,
            "source": [
                "from collections import deque\n",
                "\n",
                "# list implementation\n",
                "class Lista:\n",
                "    def __init__(self):\n",
                "        self.lista = deque()\n",
                "\n",
                "    def insere(self,value,pos = None):\n",
                "        if pos:\n",
                "            self.lista.insert(value,pos)\n",
                "        else:\n",
                "            self.lista.append(value)\n",
                "\n",
                "    def remove(self,value):\n",
                "        return self.lista.remove(value)\n",
                "\n",
                "    def __repr__(self):\n",
                "        return \"Lista[{}]\".format(\", \".join(str(x) for x in self.lista))                \n"
            ],
            "outputs": [],
            "metadata": {}
        },
        {
            "cell_type": "code",
            "execution_count": 18,
            "source": [
                "# queue implementation FIFO\n",
                "class Fila:\n",
                "    def __init__(self):\n",
                "        self.lista = deque()\n",
                "\n",
                "    def insere(self,value):\n",
                "        self.lista.append(value)\n",
                "\n",
                "    def remove(self):\n",
                "        return self.lista.popleft()\n",
                "\n",
                "    def __repr__(self):\n",
                "        return \"Lista[{}]\".format(\", \".join(str(x) for x in self.lista))"
            ],
            "outputs": [],
            "metadata": {}
        },
        {
            "cell_type": "code",
            "execution_count": 20,
            "source": [
                "# Stack implementation FIFO\n",
                "class Pilha:\n",
                "    def __init__(self):\n",
                "        self.lista = deque()\n",
                "\n",
                "    def insere(self,value):\n",
                "        self.lista.append(value)\n",
                "\n",
                "    def remove(self):\n",
                "        return self.lista.pop()\n",
                "\n",
                "    def __repr__(self):\n",
                "        return \"Lista[{}]\".format(\", \".join(str(x) for x in self.lista))"
            ],
            "outputs": [],
            "metadata": {}
        },
        {
            "cell_type": "code",
            "execution_count": 22,
            "source": [
                "f.insere(3)\n",
                "f.insere(3234)\n",
                "f.insere(3288888)\n",
                "\n"
            ],
            "outputs": [],
            "metadata": {}
        },
        {
            "cell_type": "code",
            "execution_count": 25,
            "source": [
                "f.remove()"
            ],
            "outputs": [
                {
                    "output_type": "execute_result",
                    "data": {
                        "text/plain": [
                            "3234"
                        ]
                    },
                    "metadata": {},
                    "execution_count": 25
                }
            ],
            "metadata": {}
        },
        {
            "cell_type": "code",
            "execution_count": 26,
            "source": [
                "f"
            ],
            "outputs": [
                {
                    "output_type": "execute_result",
                    "data": {
                        "text/plain": [
                            "Lista[3288888, 3, 3234, 3288888]"
                        ]
                    },
                    "metadata": {},
                    "execution_count": 26
                }
            ],
            "metadata": {}
        }
    ],
    "metadata": {
        "orig_nbformat": 4,
        "language_info": {
            "name": "python",
            "version": "3.9.0",
            "mimetype": "text/x-python",
            "codemirror_mode": {
                "name": "ipython",
                "version": 3
            },
            "pygments_lexer": "ipython3",
            "nbconvert_exporter": "python",
            "file_extension": ".py"
        },
        "kernelspec": {
            "name": "python3",
            "display_name": "Python 3.9.0 64-bit"
        },
        "interpreter": {
            "hash": "397704579725e15f5c7cb49fe5f0341eb7531c82d19f2c29d197e8b64ab5776b"
        }
    },
    "nbformat": 4,
    "nbformat_minor": 2
}